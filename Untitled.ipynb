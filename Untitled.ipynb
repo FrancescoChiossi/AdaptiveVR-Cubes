{
 "cells": [
  {
   "cell_type": "code",
   "execution_count": 1,
   "id": "33a9c52e",
   "metadata": {
    "scrolled": true
   },
   "outputs": [],
   "source": [
    "import pandas as pd\n",
    "import numpy as np"
   ]
  },
  {
   "cell_type": "code",
   "execution_count": 2,
   "id": "20217487",
   "metadata": {},
   "outputs": [],
   "source": [
    "pId = 1"
   ]
  },
  {
   "cell_type": "code",
   "execution_count": null,
   "id": "844e72f7",
   "metadata": {},
   "outputs": [],
   "source": []
  },
  {
   "cell_type": "code",
   "execution_count": 4,
   "id": "ac7e9052",
   "metadata": {},
   "outputs": [
    {
     "data": {
      "text/html": [
       "<div>\n",
       "<style scoped>\n",
       "    .dataframe tbody tr th:only-of-type {\n",
       "        vertical-align: middle;\n",
       "    }\n",
       "\n",
       "    .dataframe tbody tr th {\n",
       "        vertical-align: top;\n",
       "    }\n",
       "\n",
       "    .dataframe thead th {\n",
       "        text-align: right;\n",
       "    }\n",
       "</style>\n",
       "<table border=\"1\" class=\"dataframe\">\n",
       "  <thead>\n",
       "    <tr style=\"text-align: right;\">\n",
       "      <th></th>\n",
       "      <th>start</th>\n",
       "      <th>end</th>\n",
       "      <th>totalTime</th>\n",
       "    </tr>\n",
       "  </thead>\n",
       "  <tbody>\n",
       "    <tr>\n",
       "      <th>0</th>\n",
       "      <td>1.627137e+09</td>\n",
       "      <td>1.627138e+09</td>\n",
       "      <td>55.79753</td>\n",
       "    </tr>\n",
       "    <tr>\n",
       "      <th>1</th>\n",
       "      <td>1.627138e+09</td>\n",
       "      <td>1.627138e+09</td>\n",
       "      <td>60.66555</td>\n",
       "    </tr>\n",
       "    <tr>\n",
       "      <th>2</th>\n",
       "      <td>1.627138e+09</td>\n",
       "      <td>1.627138e+09</td>\n",
       "      <td>52.06050</td>\n",
       "    </tr>\n",
       "    <tr>\n",
       "      <th>3</th>\n",
       "      <td>1.627138e+09</td>\n",
       "      <td>1.627138e+09</td>\n",
       "      <td>55.18162</td>\n",
       "    </tr>\n",
       "  </tbody>\n",
       "</table>\n",
       "</div>"
      ],
      "text/plain": [
       "          start           end  totalTime\n",
       "0  1.627137e+09  1.627138e+09   55.79753\n",
       "1  1.627138e+09  1.627138e+09   60.66555\n",
       "2  1.627138e+09  1.627138e+09   52.06050\n",
       "3  1.627138e+09  1.627138e+09   55.18162"
      ]
     },
     "execution_count": 4,
     "metadata": {},
     "output_type": "execute_result"
    }
   ],
   "source": [
    "dfState = pd.read_csv(\"./data/ID%i-state.csv\" % pId)\n",
    "dfState.head()\n",
    "\n",
    "if (len(dfState) % 1 == 0):\n",
    "    dfState = dfState[:-1]\n",
    "x = np.array([dfState[dfState.state == \"start\"].time.values, dfState[dfState.state == \"end\"].time.values])\n",
    "dfRounds = pd.DataFrame(x.T)\n",
    "dfRounds.columns = [\"start\", \"end\"]\n",
    "dfRounds[\"totalTime\"] = dfRounds[\"end\"] -dfRounds[\"start\"]\n",
    "dfRounds "
   ]
  },
  {
   "cell_type": "code",
   "execution_count": 5,
   "id": "0f58d0dc",
   "metadata": {},
   "outputs": [
    {
     "name": "stdout",
     "output_type": "stream",
     "text": [
      "Flow sum: 144\n"
     ]
    }
   ],
   "source": [
    "dfFlow = pd.read_csv(\"./data/ID%i-flow.csv\" % pId)\n",
    "print(\"Flow sum: %i\" % len(dfFlow))\n",
    "dfFlow.head()\n",
    "\n",
    "dfVisitor = pd.read_csv(\"./data/ID%i-visitor.csv\" % pId)\n",
    "dfVisitor = dfVisitor.drop_duplicates([\"name\", \"hasTicket\"])"
   ]
  },
  {
   "cell_type": "code",
   "execution_count": 6,
   "id": "f78e3658",
   "metadata": {},
   "outputs": [],
   "source": [
    "dfV = pd.merge(dfFlow, dfVisitor[[\"time\", \"name\"]], on=\"name\", how=\"outer\")"
   ]
  },
  {
   "cell_type": "code",
   "execution_count": 7,
   "id": "a0743006",
   "metadata": {},
   "outputs": [
    {
     "name": "stdout",
     "output_type": "stream",
     "text": [
      "1627137455.33025 1627137511.12778\n",
      "1627137518.6893 1627137579.35485\n",
      "1627137589.47015 1627137641.53065\n",
      "1627137643.34938 1627137698.531\n"
     ]
    }
   ],
   "source": [
    "\n",
    "lst = []\n",
    "lstRate = []\n",
    "for i, e in dfRounds.iterrows():\n",
    "    print( e.start,  e.end)\n",
    "    x = len(dfFlow[(dfFlow.time >= e.start) & (dfFlow.time <= e.end)])\n",
    "    dfY = dfV[(dfV.time_x >= e.start) & (dfV.time_x <= e.end)]\n",
    "    dfX = dfY[dfY.hasTicket == False]\n",
    "    fn = len(dfX[dfX.time_y.isna()])\n",
    "    tp = len(dfX[~dfX.time_y.isna()])\n",
    "    dfX = dfY[dfY.hasTicket == True]\n",
    "    tn = len(dfX[dfX.time_y.isna()])\n",
    "    fp = len(dfX[~dfX.time_y.isna()])\n",
    "    lst.append(x)\n",
    "    lstRate.append([tp, fp, tn, fn])\n",
    "dfRounds[\"totalVisitor\"] = lst\n",
    "lstRate = np.array(lstRate)\n",
    "dfRounds[\"TruePositive\"] = lstRate[:,0]\n",
    "dfRounds[\"FalsePositive\"] = lstRate[:,1]\n",
    "dfRounds[\"TrueNegative\"] = lstRate[:,2]\n",
    "dfRounds[\"FalseNegative\"] = lstRate[:,3]\n",
    "\n",
    "dfRounds[\"Acc\"] = (dfRounds[\"TruePositive\"] + dfRounds[\"TrueNegative\"]) / dfRounds[\"totalVisitor\"]"
   ]
  },
  {
   "cell_type": "code",
   "execution_count": 8,
   "id": "1e1c498b",
   "metadata": {},
   "outputs": [
    {
     "data": {
      "text/html": [
       "<div>\n",
       "<style scoped>\n",
       "    .dataframe tbody tr th:only-of-type {\n",
       "        vertical-align: middle;\n",
       "    }\n",
       "\n",
       "    .dataframe tbody tr th {\n",
       "        vertical-align: top;\n",
       "    }\n",
       "\n",
       "    .dataframe thead th {\n",
       "        text-align: right;\n",
       "    }\n",
       "</style>\n",
       "<table border=\"1\" class=\"dataframe\">\n",
       "  <thead>\n",
       "    <tr style=\"text-align: right;\">\n",
       "      <th></th>\n",
       "      <th>start</th>\n",
       "      <th>end</th>\n",
       "      <th>totalTime</th>\n",
       "      <th>totalVisitor</th>\n",
       "      <th>TruePositive</th>\n",
       "      <th>FalsePositive</th>\n",
       "      <th>TrueNegative</th>\n",
       "      <th>FalseNegative</th>\n",
       "      <th>Acc</th>\n",
       "      <th>VisitorPerMinute</th>\n",
       "    </tr>\n",
       "  </thead>\n",
       "  <tbody>\n",
       "    <tr>\n",
       "      <th>0</th>\n",
       "      <td>1.627137e+09</td>\n",
       "      <td>1.627138e+09</td>\n",
       "      <td>55.79753</td>\n",
       "      <td>29</td>\n",
       "      <td>2</td>\n",
       "      <td>0</td>\n",
       "      <td>26</td>\n",
       "      <td>1</td>\n",
       "      <td>0.965517</td>\n",
       "      <td>31.184176</td>\n",
       "    </tr>\n",
       "    <tr>\n",
       "      <th>1</th>\n",
       "      <td>1.627138e+09</td>\n",
       "      <td>1.627138e+09</td>\n",
       "      <td>60.66555</td>\n",
       "      <td>30</td>\n",
       "      <td>1</td>\n",
       "      <td>1</td>\n",
       "      <td>28</td>\n",
       "      <td>0</td>\n",
       "      <td>0.966667</td>\n",
       "      <td>29.670876</td>\n",
       "    </tr>\n",
       "    <tr>\n",
       "      <th>2</th>\n",
       "      <td>1.627138e+09</td>\n",
       "      <td>1.627138e+09</td>\n",
       "      <td>52.06050</td>\n",
       "      <td>39</td>\n",
       "      <td>1</td>\n",
       "      <td>0</td>\n",
       "      <td>36</td>\n",
       "      <td>2</td>\n",
       "      <td>0.948718</td>\n",
       "      <td>44.947705</td>\n",
       "    </tr>\n",
       "    <tr>\n",
       "      <th>3</th>\n",
       "      <td>1.627138e+09</td>\n",
       "      <td>1.627138e+09</td>\n",
       "      <td>55.18162</td>\n",
       "      <td>26</td>\n",
       "      <td>3</td>\n",
       "      <td>0</td>\n",
       "      <td>22</td>\n",
       "      <td>1</td>\n",
       "      <td>0.961538</td>\n",
       "      <td>28.270283</td>\n",
       "    </tr>\n",
       "  </tbody>\n",
       "</table>\n",
       "</div>"
      ],
      "text/plain": [
       "          start           end  totalTime  totalVisitor  TruePositive  \\\n",
       "0  1.627137e+09  1.627138e+09   55.79753            29             2   \n",
       "1  1.627138e+09  1.627138e+09   60.66555            30             1   \n",
       "2  1.627138e+09  1.627138e+09   52.06050            39             1   \n",
       "3  1.627138e+09  1.627138e+09   55.18162            26             3   \n",
       "\n",
       "   FalsePositive  TrueNegative  FalseNegative       Acc  VisitorPerMinute  \n",
       "0              0            26              1  0.965517         31.184176  \n",
       "1              1            28              0  0.966667         29.670876  \n",
       "2              0            36              2  0.948718         44.947705  \n",
       "3              0            22              1  0.961538         28.270283  "
      ]
     },
     "execution_count": 8,
     "metadata": {},
     "output_type": "execute_result"
    }
   ],
   "source": [
    "dfRounds[\"VisitorPerMinute\"] = dfRounds.totalVisitor / (dfRounds.totalTime/60)\n",
    "dfRounds"
   ]
  },
  {
   "cell_type": "code",
   "execution_count": null,
   "id": "c99f4177",
   "metadata": {},
   "outputs": [],
   "source": []
  },
  {
   "cell_type": "code",
   "execution_count": 9,
   "id": "59459e38",
   "metadata": {},
   "outputs": [
    {
     "ename": "NameError",
     "evalue": "name 'df' is not defined",
     "output_type": "error",
     "traceback": [
      "\u001b[1;31m---------------------------------------------------------------------------\u001b[0m",
      "\u001b[1;31mNameError\u001b[0m                                 Traceback (most recent call last)",
      "\u001b[1;32m<ipython-input-9-275c140de424>\u001b[0m in \u001b[0;36m<module>\u001b[1;34m\u001b[0m\n\u001b[1;32m----> 1\u001b[1;33m \u001b[0mdfX\u001b[0m \u001b[1;33m=\u001b[0m \u001b[0mdf\u001b[0m\u001b[1;33m[\u001b[0m\u001b[0mdf\u001b[0m\u001b[1;33m.\u001b[0m\u001b[0mhasTicket\u001b[0m \u001b[1;33m==\u001b[0m \u001b[1;32mFalse\u001b[0m\u001b[1;33m]\u001b[0m\u001b[1;33m\u001b[0m\u001b[1;33m\u001b[0m\u001b[0m\n\u001b[0m\u001b[0;32m      2\u001b[0m \u001b[0mprint\u001b[0m\u001b[1;33m(\u001b[0m\u001b[1;34m\"Missed: %i\"\u001b[0m \u001b[1;33m%\u001b[0m \u001b[0mlen\u001b[0m\u001b[1;33m(\u001b[0m\u001b[0mdfX\u001b[0m\u001b[1;33m[\u001b[0m\u001b[0mdfX\u001b[0m\u001b[1;33m.\u001b[0m\u001b[0mtime_y\u001b[0m\u001b[1;33m.\u001b[0m\u001b[0misna\u001b[0m\u001b[1;33m(\u001b[0m\u001b[1;33m)\u001b[0m\u001b[1;33m]\u001b[0m\u001b[1;33m)\u001b[0m\u001b[1;33m)\u001b[0m\u001b[1;33m\u001b[0m\u001b[1;33m\u001b[0m\u001b[0m\n\u001b[0;32m      3\u001b[0m \u001b[0mprint\u001b[0m\u001b[1;33m(\u001b[0m\u001b[1;34m\"Found: %i\"\u001b[0m \u001b[1;33m%\u001b[0m \u001b[0mlen\u001b[0m\u001b[1;33m(\u001b[0m\u001b[0mdfX\u001b[0m\u001b[1;33m[\u001b[0m\u001b[1;33m~\u001b[0m\u001b[0mdfX\u001b[0m\u001b[1;33m.\u001b[0m\u001b[0mtime_y\u001b[0m\u001b[1;33m.\u001b[0m\u001b[0misna\u001b[0m\u001b[1;33m(\u001b[0m\u001b[1;33m)\u001b[0m\u001b[1;33m]\u001b[0m\u001b[1;33m)\u001b[0m\u001b[1;33m)\u001b[0m\u001b[1;33m\u001b[0m\u001b[1;33m\u001b[0m\u001b[0m\n\u001b[0;32m      4\u001b[0m \u001b[0mdfX\u001b[0m \u001b[1;33m=\u001b[0m \u001b[0mdf\u001b[0m\u001b[1;33m[\u001b[0m\u001b[0mdf\u001b[0m\u001b[1;33m.\u001b[0m\u001b[0mhasTicket\u001b[0m \u001b[1;33m==\u001b[0m \u001b[1;32mTrue\u001b[0m\u001b[1;33m]\u001b[0m\u001b[1;33m\u001b[0m\u001b[1;33m\u001b[0m\u001b[0m\n\u001b[0;32m      5\u001b[0m \u001b[0mprint\u001b[0m\u001b[1;33m(\u001b[0m\u001b[1;34m\"Entered without: %i\"\u001b[0m \u001b[1;33m%\u001b[0m \u001b[0mlen\u001b[0m\u001b[1;33m(\u001b[0m\u001b[0mdfX\u001b[0m\u001b[1;33m[\u001b[0m\u001b[0mdfX\u001b[0m\u001b[1;33m.\u001b[0m\u001b[0mtime_y\u001b[0m\u001b[1;33m.\u001b[0m\u001b[0misna\u001b[0m\u001b[1;33m(\u001b[0m\u001b[1;33m)\u001b[0m\u001b[1;33m]\u001b[0m\u001b[1;33m)\u001b[0m\u001b[1;33m)\u001b[0m\u001b[1;33m\u001b[0m\u001b[1;33m\u001b[0m\u001b[0m\n",
      "\u001b[1;31mNameError\u001b[0m: name 'df' is not defined"
     ]
    }
   ],
   "source": [
    "dfX = df[df.hasTicket == False]\n",
    "print(\"Missed: %i\" % len(dfX[dfX.time_y.isna()]))\n",
    "print(\"Found: %i\" % len(dfX[~dfX.time_y.isna()]))\n",
    "dfX = df[df.hasTicket == True]\n",
    "print(\"Entered without: %i\" % len(dfX[dfX.time_y.isna()]))\n",
    "print(\"Shound not have: %i\" % len(dfX[~dfX.time_y.isna()]))"
   ]
  },
  {
   "cell_type": "code",
   "execution_count": null,
   "id": "a5675eb8",
   "metadata": {},
   "outputs": [],
   "source": []
  },
  {
   "cell_type": "code",
   "execution_count": null,
   "id": "829c5e41",
   "metadata": {},
   "outputs": [],
   "source": []
  }
 ],
 "metadata": {
  "kernelspec": {
   "display_name": "Python 3",
   "language": "python",
   "name": "python3"
  },
  "language_info": {
   "codemirror_mode": {
    "name": "ipython",
    "version": 3
   },
   "file_extension": ".py",
   "mimetype": "text/x-python",
   "name": "python",
   "nbconvert_exporter": "python",
   "pygments_lexer": "ipython3",
   "version": "3.7.3"
  }
 },
 "nbformat": 4,
 "nbformat_minor": 5
}
